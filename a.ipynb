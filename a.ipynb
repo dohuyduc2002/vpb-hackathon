{
 "cells": [
  {
   "cell_type": "code",
   "execution_count": 10,
   "id": "339da6ca",
   "metadata": {},
   "outputs": [],
   "source": [
    "df1 = pd.read_csv(\"data/User0_credit_card_transactions.csv\")\n",
    "df1_clean = df1.drop(\"Is Fraud?\", axis=1)  \n",
    "\n",
    "df1_clean.to_csv(\"data/raw_data.csv\", index=False)"
   ]
  },
  {
   "cell_type": "code",
   "execution_count": 12,
   "id": "6640f346",
   "metadata": {},
   "outputs": [
    {
     "name": "stdout",
     "output_type": "stream",
     "text": [
      "<class 'pandas.core.frame.DataFrame'>\n",
      "RangeIndex: 19963 entries, 0 to 19962\n",
      "Data columns (total 14 columns):\n",
      " #   Column          Non-Null Count  Dtype  \n",
      "---  ------          --------------  -----  \n",
      " 0   User            19963 non-null  int64  \n",
      " 1   Card            19963 non-null  int64  \n",
      " 2   Year            19963 non-null  int64  \n",
      " 3   Month           19963 non-null  int64  \n",
      " 4   Day             19963 non-null  int64  \n",
      " 5   Time            19963 non-null  object \n",
      " 6   Amount          19963 non-null  object \n",
      " 7   Use Chip        19963 non-null  object \n",
      " 8   Merchant Name   19963 non-null  int64  \n",
      " 9   Merchant City   19963 non-null  object \n",
      " 10  Merchant State  18646 non-null  object \n",
      " 11  Zip             18316 non-null  float64\n",
      " 12  MCC             19963 non-null  int64  \n",
      " 13  Errors?         574 non-null    object \n",
      "dtypes: float64(1), int64(7), object(6)\n",
      "memory usage: 2.1+ MB\n"
     ]
    }
   ],
   "source": [
    "df1_clean.info()"
   ]
  },
  {
   "cell_type": "code",
   "execution_count": 16,
   "id": "68035c11",
   "metadata": {},
   "outputs": [
    {
     "data": {
      "text/plain": [
       "0        Swipe Transaction\n",
       "1        Swipe Transaction\n",
       "2        Swipe Transaction\n",
       "3        Swipe Transaction\n",
       "4        Swipe Transaction\n",
       "               ...        \n",
       "19958    Swipe Transaction\n",
       "19959    Swipe Transaction\n",
       "19960    Swipe Transaction\n",
       "19961    Swipe Transaction\n",
       "19962    Swipe Transaction\n",
       "Name: Use Chip, Length: 19963, dtype: object"
      ]
     },
     "execution_count": 16,
     "metadata": {},
     "output_type": "execute_result"
    }
   ],
   "source": [
    "df1_clean['Use Chip']"
   ]
  },
  {
   "cell_type": "code",
   "execution_count": 17,
   "id": "e272266b",
   "metadata": {},
   "outputs": [
    {
     "name": "stdout",
     "output_type": "stream",
     "text": [
      "<class 'pandas.core.frame.DataFrame'>\n",
      "RangeIndex: 2000 entries, 0 to 1999\n",
      "Data columns (total 18 columns):\n",
      " #   Column                       Non-Null Count  Dtype  \n",
      "---  ------                       --------------  -----  \n",
      " 0   Person                       2000 non-null   object \n",
      " 1   Current Age                  2000 non-null   int64  \n",
      " 2   Retirement Age               2000 non-null   int64  \n",
      " 3   Birth Year                   2000 non-null   int64  \n",
      " 4   Birth Month                  2000 non-null   int64  \n",
      " 5   Gender                       2000 non-null   object \n",
      " 6   Address                      2000 non-null   object \n",
      " 7   Apartment                    528 non-null    float64\n",
      " 8   City                         2000 non-null   object \n",
      " 9   State                        2000 non-null   object \n",
      " 10  Zipcode                      2000 non-null   int64  \n",
      " 11  Latitude                     2000 non-null   float64\n",
      " 12  Longitude                    2000 non-null   float64\n",
      " 13  Per Capita Income - Zipcode  2000 non-null   object \n",
      " 14  Yearly Income - Person       2000 non-null   object \n",
      " 15  Total Debt                   2000 non-null   object \n",
      " 16  FICO Score                   2000 non-null   int64  \n",
      " 17  Num Credit Cards             2000 non-null   int64  \n",
      "dtypes: float64(3), int64(7), object(8)\n",
      "memory usage: 281.4+ KB\n"
     ]
    }
   ],
   "source": [
    "df2 = pd.read_csv(\"data/sd254_users.csv\")\n",
    "df2.info()"
   ]
  },
  {
   "cell_type": "code",
   "execution_count": 18,
   "id": "b8777e0e",
   "metadata": {},
   "outputs": [
    {
     "name": "stdout",
     "output_type": "stream",
     "text": [
      "<class 'pandas.core.frame.DataFrame'>\n",
      "RangeIndex: 6146 entries, 0 to 6145\n",
      "Data columns (total 13 columns):\n",
      " #   Column                 Non-Null Count  Dtype \n",
      "---  ------                 --------------  ----- \n",
      " 0   User                   6146 non-null   int64 \n",
      " 1   CARD INDEX             6146 non-null   int64 \n",
      " 2   Card Brand             6146 non-null   object\n",
      " 3   Card Type              6146 non-null   object\n",
      " 4   Card Number            6146 non-null   int64 \n",
      " 5   Expires                6146 non-null   object\n",
      " 6   CVV                    6146 non-null   int64 \n",
      " 7   Has Chip               6146 non-null   object\n",
      " 8   Cards Issued           6146 non-null   int64 \n",
      " 9   Credit Limit           6146 non-null   object\n",
      " 10  Acct Open Date         6146 non-null   object\n",
      " 11  Year PIN last Changed  6146 non-null   int64 \n",
      " 12  Card on Dark Web       6146 non-null   object\n",
      "dtypes: int64(6), object(7)\n",
      "memory usage: 624.3+ KB\n"
     ]
    }
   ],
   "source": [
    "df3 = pd.read_csv(\"data/sd254_cards.csv\")\n",
    "df3.info()"
   ]
  },
  {
   "cell_type": "code",
   "execution_count": 30,
   "id": "b42d12e0",
   "metadata": {},
   "outputs": [
    {
     "name": "stdout",
     "output_type": "stream",
     "text": [
      "Largest divisor under or equal to 5500000: 4\n",
      "--> Số file sẽ sinh ra: 6085193\n"
     ]
    }
   ],
   "source": [
    "N = 24340772\n",
    "max_target = 5_500_000  # Giới hạn lớn nhất muốn thử\n",
    "\n",
    "# Tìm ước số lớn nhất của N mà nhỏ hơn hoặc bằng max_target\n",
    "for i in range(max_target, 0, -1):\n",
    "    if N % i == 0:\n",
    "        print(f\"Largest divisor under or equal to {max_target}: {i}\")\n",
    "        print(f\"--> Số file sẽ sinh ra: {N // i}\")\n",
    "        break"
   ]
  },
  {
   "cell_type": "code",
   "execution_count": null,
   "id": "3b362b59",
   "metadata": {},
   "outputs": [],
   "source": [
    "import pandas as pd\n",
    "import pandasql as psql\n",
    "\n",
    "\n",
    "transaction = pd.read_csv(\"data/transaction_cleaned.csv\")\n",
    "user = pd.read_csv(\"data/user_cleaned.csv\")\n",
    "card = pd.read_csv(\"data/card_cleaned.csv\")"
   ]
  },
  {
   "cell_type": "code",
   "execution_count": null,
   "id": "2382cb44",
   "metadata": {},
   "outputs": [],
   "source": [
    "sampled_df = transaction.sample(n=500_000, random_state=42)\n",
    "sampled_df.to_csv(\"data/test.csv\", index=False)\n",
    "\n",
    "user.insert(0, \"idx\", range(len(user)))\n",
    "user.to_csv(\"data/user_test.csv\")"
   ]
  },
  {
   "cell_type": "code",
   "execution_count": 24,
   "id": "041a28a4",
   "metadata": {},
   "outputs": [],
   "source": [
    "df = pd.read_csv(\"data/test.csv\")"
   ]
  },
  {
   "cell_type": "code",
   "execution_count": 29,
   "id": "8726b226",
   "metadata": {},
   "outputs": [
    {
     "data": {
      "text/plain": [
       "is_fraud\n",
       "No     252\n",
       "Yes      1\n",
       "Name: count, dtype: int64"
      ]
     },
     "execution_count": 29,
     "metadata": {},
     "output_type": "execute_result"
    }
   ],
   "source": [
    "df[df['user'] == 1978]['is_fraud'].value_counts()\n"
   ]
  },
  {
   "cell_type": "code",
   "execution_count": null,
   "id": "2f64c22c",
   "metadata": {},
   "outputs": [],
   "source": [
    "q = \"\"\"\n",
    "SELECT t.user, COUNT(t.user) as count_fraud, u.person, u.current_age, u.total_debt, c.card_number, c.credit_limit\n",
    "FROM df t\n",
    "LEFT JOIN card c ON t.user = c.user\n",
    "LEFT JOIN user u ON t.user = u.idx\n",
    "\n",
    "WHERE t.is_fraud = 'Yes'\n",
    "GROUP BY t.user\n",
    "\"\"\"\n",
    "result = psql.sqldf(q, locals())"
   ]
  },
  {
   "cell_type": "code",
   "execution_count": 26,
   "id": "6058ee3c",
   "metadata": {},
   "outputs": [
    {
     "data": {
      "text/html": [
       "<div>\n",
       "<style scoped>\n",
       "    .dataframe tbody tr th:only-of-type {\n",
       "        vertical-align: middle;\n",
       "    }\n",
       "\n",
       "    .dataframe tbody tr th {\n",
       "        vertical-align: top;\n",
       "    }\n",
       "\n",
       "    .dataframe thead th {\n",
       "        text-align: right;\n",
       "    }\n",
       "</style>\n",
       "<table border=\"1\" class=\"dataframe\">\n",
       "  <thead>\n",
       "    <tr style=\"text-align: right;\">\n",
       "      <th></th>\n",
       "      <th>user</th>\n",
       "      <th>count_fraud</th>\n",
       "      <th>person</th>\n",
       "      <th>current_age</th>\n",
       "      <th>total_debt</th>\n",
       "      <th>card_number</th>\n",
       "      <th>credit_limit</th>\n",
       "    </tr>\n",
       "  </thead>\n",
       "  <tbody>\n",
       "    <tr>\n",
       "      <th>0</th>\n",
       "      <td>0</td>\n",
       "      <td>10</td>\n",
       "      <td>Hazel Robinson</td>\n",
       "      <td>53</td>\n",
       "      <td>$127613</td>\n",
       "      <td>4344676511950444</td>\n",
       "      <td>$24295</td>\n",
       "    </tr>\n",
       "    <tr>\n",
       "      <th>1</th>\n",
       "      <td>1</td>\n",
       "      <td>5</td>\n",
       "      <td>Sasha Sadr</td>\n",
       "      <td>53</td>\n",
       "      <td>$191349</td>\n",
       "      <td>4001482973848631</td>\n",
       "      <td>$28508</td>\n",
       "    </tr>\n",
       "    <tr>\n",
       "      <th>2</th>\n",
       "      <td>2</td>\n",
       "      <td>5</td>\n",
       "      <td>Saanvi Lee</td>\n",
       "      <td>81</td>\n",
       "      <td>$196</td>\n",
       "      <td>4242015583697294</td>\n",
       "      <td>$31463</td>\n",
       "    </tr>\n",
       "    <tr>\n",
       "      <th>3</th>\n",
       "      <td>5</td>\n",
       "      <td>3</td>\n",
       "      <td>Aldo Walker</td>\n",
       "      <td>42</td>\n",
       "      <td>$0</td>\n",
       "      <td>4099623033306950</td>\n",
       "      <td>$9900</td>\n",
       "    </tr>\n",
       "    <tr>\n",
       "      <th>4</th>\n",
       "      <td>13</td>\n",
       "      <td>3</td>\n",
       "      <td>Keanu Chen</td>\n",
       "      <td>34</td>\n",
       "      <td>$78833</td>\n",
       "      <td>4508388296516458</td>\n",
       "      <td>$7400</td>\n",
       "    </tr>\n",
       "    <tr>\n",
       "      <th>...</th>\n",
       "      <td>...</td>\n",
       "      <td>...</td>\n",
       "      <td>...</td>\n",
       "      <td>...</td>\n",
       "      <td>...</td>\n",
       "      <td>...</td>\n",
       "      <td>...</td>\n",
       "    </tr>\n",
       "    <tr>\n",
       "      <th>457</th>\n",
       "      <td>1978</td>\n",
       "      <td>1</td>\n",
       "      <td>Kailyn Gomez</td>\n",
       "      <td>48</td>\n",
       "      <td>$50155</td>\n",
       "      <td>4955581838657248</td>\n",
       "      <td>$5579</td>\n",
       "    </tr>\n",
       "    <tr>\n",
       "      <th>458</th>\n",
       "      <td>1980</td>\n",
       "      <td>4</td>\n",
       "      <td>Sullivan Cruz</td>\n",
       "      <td>38</td>\n",
       "      <td>$17008</td>\n",
       "      <td>5145463747127185</td>\n",
       "      <td>$8500</td>\n",
       "    </tr>\n",
       "    <tr>\n",
       "      <th>459</th>\n",
       "      <td>1981</td>\n",
       "      <td>2</td>\n",
       "      <td>Lucinda Burns</td>\n",
       "      <td>50</td>\n",
       "      <td>$57346</td>\n",
       "      <td>358690297708537</td>\n",
       "      <td>$10800</td>\n",
       "    </tr>\n",
       "    <tr>\n",
       "      <th>460</th>\n",
       "      <td>1982</td>\n",
       "      <td>6</td>\n",
       "      <td>Samuel Morales</td>\n",
       "      <td>56</td>\n",
       "      <td>$56310</td>\n",
       "      <td>370616632244142</td>\n",
       "      <td>$5600</td>\n",
       "    </tr>\n",
       "    <tr>\n",
       "      <th>461</th>\n",
       "      <td>1983</td>\n",
       "      <td>18</td>\n",
       "      <td>Nyla Schmidt</td>\n",
       "      <td>78</td>\n",
       "      <td>$1058</td>\n",
       "      <td>4653783977944705</td>\n",
       "      <td>$107</td>\n",
       "    </tr>\n",
       "  </tbody>\n",
       "</table>\n",
       "<p>462 rows × 7 columns</p>\n",
       "</div>"
      ],
      "text/plain": [
       "     user  count_fraud          person  current_age total_debt  \\\n",
       "0       0           10  Hazel Robinson           53    $127613   \n",
       "1       1            5      Sasha Sadr           53    $191349   \n",
       "2       2            5      Saanvi Lee           81       $196   \n",
       "3       5            3     Aldo Walker           42         $0   \n",
       "4      13            3      Keanu Chen           34     $78833   \n",
       "..    ...          ...             ...          ...        ...   \n",
       "457  1978            1    Kailyn Gomez           48     $50155   \n",
       "458  1980            4   Sullivan Cruz           38     $17008   \n",
       "459  1981            2   Lucinda Burns           50     $57346   \n",
       "460  1982            6  Samuel Morales           56     $56310   \n",
       "461  1983           18    Nyla Schmidt           78      $1058   \n",
       "\n",
       "          card_number credit_limit  \n",
       "0    4344676511950444       $24295  \n",
       "1    4001482973848631       $28508  \n",
       "2    4242015583697294       $31463  \n",
       "3    4099623033306950        $9900  \n",
       "4    4508388296516458        $7400  \n",
       "..                ...          ...  \n",
       "457  4955581838657248        $5579  \n",
       "458  5145463747127185        $8500  \n",
       "459   358690297708537       $10800  \n",
       "460   370616632244142        $5600  \n",
       "461  4653783977944705         $107  \n",
       "\n",
       "[462 rows x 7 columns]"
      ]
     },
     "execution_count": 26,
     "metadata": {},
     "output_type": "execute_result"
    }
   ],
   "source": [
    "result"
   ]
  },
  {
   "cell_type": "code",
   "execution_count": null,
   "id": "7b4ee5e3",
   "metadata": {},
   "outputs": [],
   "source": [
    "q = \"\"\"\n",
    "SELECT t.user, COUNT(t.user) as count_fraud, u.person, u.current_age, u.total_debt, c.card_number, c.credit_limit\n",
    "FROM df t\n",
    "LEFT JOIN card c ON t.user = c.user\n",
    "LEFT JOIN user u ON t.user = u.idx\n",
    "\n",
    "WHERE t.is_fraud = 'Yes'\n",
    "GROUP BY t.user\n",
    "\"\"\"\n",
    "result = psql.sqldf(q, locals())"
   ]
  },
  {
   "cell_type": "code",
   "execution_count": null,
   "id": "5a3370ca",
   "metadata": {},
   "outputs": [],
   "source": []
  }
 ],
 "metadata": {
  "kernelspec": {
   "display_name": "vpb",
   "language": "python",
   "name": "python3"
  },
  "language_info": {
   "codemirror_mode": {
    "name": "ipython",
    "version": 3
   },
   "file_extension": ".py",
   "mimetype": "text/x-python",
   "name": "python",
   "nbconvert_exporter": "python",
   "pygments_lexer": "ipython3",
   "version": "3.11.11"
  }
 },
 "nbformat": 4,
 "nbformat_minor": 5
}
